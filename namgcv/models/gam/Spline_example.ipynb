{
  "cells": [
    {
      "cell_type": "code",
      "execution_count": null,
      "metadata": {
        "id": "JbFWA5gTXQuO"
      },
      "outputs": [],
      "source": []
    },
    {
      "cell_type": "code",
      "execution_count": 1,
      "metadata": {
        "id": "lTNhnbSBXTpR"
      },
      "outputs": [],
      "source": [
        "import numpy as np\n",
        "import pandas as pd\n",
        "from scipy.spatial import distance_matrix\n",
        "from scipy.sparse.linalg import eigsh\n",
        "import bisect\n",
        "import matplotlib as mpl\n",
        "import ctypes\n",
        "import scipy\n",
        "import matplotlib.pyplot as plt"
      ]
    },
    {
      "cell_type": "code",
      "execution_count": 6,
      "metadata": {
        "id": "sIilBEPMXTrm"
      },
      "outputs": [],
      "source": [
        "def cr_spl_predict(x, knots, F):\n",
        "    \"\"\"\n",
        "    pretty much the same as cr_spl, this time evaluating it for already given knots and F\n",
        "    (could probably just be integrated into cr_spl)\n",
        "    \"\"\"\n",
        "\n",
        "    n = len(x)\n",
        "    k = len(knots)\n",
        "    base = np.zeros((n, k))\n",
        "    for i in range(0, len(x)):\n",
        "        # in case x[i] is lies outside the range of the knots, extrapolate (see mgcv/src/mgcv.c (crspl) on github)\n",
        "        if x[i] < min(knots):\n",
        "            j = 0\n",
        "            h = knots[1] - knots[0]\n",
        "            xik = x[i] - knots[0]\n",
        "            c_jm = -xik * h / 3\n",
        "            c_jp = -xik * h / 6\n",
        "            base[i, :] = c_jm * F[0, :] + c_jp * F[1, :]\n",
        "            base[i, 0] += 1 - xik / h\n",
        "            base[i, 1] += xik / h\n",
        "        elif x[i] > max(knots):\n",
        "            j = len(knots) - 1\n",
        "            h = knots[j] - knots[j - 1]\n",
        "            xik = x[i] - knots[j]\n",
        "            c_jm = xik * h / 6\n",
        "            c_jp = xik * h / 3\n",
        "            base[i, :] = c_jm * F[j - 1, :] + c_jp * F[j, 1]\n",
        "            base[i, j - 1] += -xik / h\n",
        "            base[i, j] += 1 + xik / h\n",
        "        # find interval in which x[i] lies and evaluate accordingly just like in cr_spl\n",
        "        else:\n",
        "            j = bisect.bisect_left(knots, x[i])\n",
        "            x_j = knots[j - 1]\n",
        "            x_j1 = knots[j]\n",
        "            h = x_j1 - x_j\n",
        "            a_jm = (x_j1 - x[i]) / h\n",
        "            a_jp = (x[i] - x_j) / h\n",
        "            c_jm = ((x_j1 - x[i]) ** 3 / h - h * (x_j1 - x[i])) / 6\n",
        "            c_jp = ((x[i] - x_j) ** 3 / h - h * (x[i] - x_j)) / 6\n",
        "            base[i, :] = c_jm * F[j - 1, :] + c_jp * F[j, :]\n",
        "            base[i, j - 1] += a_jm\n",
        "            base[i, j] += a_jp\n",
        "    return base\n"
      ]
    },
    {
      "cell_type": "code",
      "execution_count": 7,
      "metadata": {
        "id": "a8pzpi11XyYF"
      },
      "outputs": [],
      "source": [
        "def get_FS(xk):\n",
        "    \"\"\"\n",
        "    Create matrix F required to build the spline base and the penalizing matrix S,\n",
        "    based on a set of knots xk (ascending order). Pretty much directly from p.201 in Wood (2017)\n",
        "    :param xk: knots (for now always np.linspace(x.min(), x.max(), n_knots)\n",
        "    \"\"\"\n",
        "    k = len(xk)\n",
        "    h = np.diff(xk)\n",
        "    h_shift_up = h.copy()[1:]\n",
        "\n",
        "\n",
        "    D = np.zeros((k - 2, k))\n",
        "    np.fill_diagonal(D, 1 / h[:k - 2])\n",
        "    np.fill_diagonal(D[:, 1:], (-1 / h[:k - 2] - 1 / h_shift_up))\n",
        "    np.fill_diagonal(D[:, 2:], 1 / h_shift_up)\n",
        "\n",
        "\n",
        "    B = np.zeros((k - 2, k - 2))\n",
        "    np.fill_diagonal(B, (h[:k - 2] + h_shift_up) / 3)\n",
        "    np.fill_diagonal(B[:, 1:], h_shift_up[k - 3] / 6)\n",
        "    np.fill_diagonal(B[1:, :], h_shift_up[k - 3] / 6)\n",
        "    F_minus = np.linalg.inv(B) @ D\n",
        "    F = np.vstack([np.zeros(k), F_minus, np.zeros(k)])\n",
        "    S = D.T @ np.linalg.inv(B) @ D\n",
        "    return F, S\n"
      ]
    },
    {
      "cell_type": "code",
      "execution_count": 13,
      "metadata": {
        "id": "302-tcZFXwAf"
      },
      "outputs": [],
      "source": [
        "def cr_spl(x, n_knots):\n",
        "    \"\"\"\n",
        "\n",
        "    :param x: x values to be evalutated\n",
        "    :param n_knots: number of knots\n",
        "    :return:\n",
        "    \"\"\"\n",
        "\n",
        "    xk = np.linspace(x.min(), x.max(), n_knots)\n",
        "    n = len(x)\n",
        "    k = len(xk)\n",
        "    F, S = get_FS(xk)\n",
        "    base = np.zeros((n, k))\n",
        "    for i in range(0, len(x)):\n",
        "        # find interval in which x[i] lies\n",
        "        # and evaluate basis function from p.201 in Wood (2017)\n",
        "        j = bisect.bisect_left(xk, x[i])\n",
        "        x_j = xk[j - 1]\n",
        "        x_j1 = xk[j]\n",
        "        h = x_j1 - x_j\n",
        "        a_jm = (x_j1 - x[i]) / h\n",
        "        a_jp = (x[i] - x_j) / h\n",
        "        c_jm = ((x_j1 - x[i]) ** 3 / h - h * (x_j1 - x[i])) / 6\n",
        "        c_jp = ((x[i] - x_j) ** 3 / h - h * (x[i] - x_j)) / 6\n",
        "        base[i, :] = c_jm * F[j - 1, :] + c_jp * F[j, :]\n",
        "        base[i, j - 1] += a_jm\n",
        "        base[i, j] += a_jp\n",
        "    return base, S, xk, F\n"
      ]
    },
    {
      "cell_type": "code",
      "execution_count": 9,
      "metadata": {
        "id": "m0RpZr-rXhki"
      },
      "outputs": [],
      "source": [
        "def scale_penalty(basis, penalty):\n",
        "    \"\"\"\n",
        "    rescale the penalty matrix based on the design matrix of the smoother\n",
        "    from mgcv to get penalties that react comparably to smoothing parameters\n",
        "    (works for CubicSplines and MRFSmooth, not for TPSpline since the model\n",
        "    matrices are completely different)\n",
        "    \"\"\"\n",
        "    X_inf_norm = max(np.sum(abs(basis), axis=1)) ** 2\n",
        "    S_norm = np.linalg.norm(penalty, ord=1)\n",
        "    norm = S_norm / X_inf_norm\n",
        "    penalty = penalty / norm\n",
        "    return penalty\n",
        "\n",
        "\n",
        "def identconst(basis, penalty):\n",
        "    \"\"\"\n",
        "    create constraint matrix and absorb identifiability constraint into model matrices:\n",
        "    returns centered model matrices as well orthogonal factor Z to map centered matrices\n",
        "    back to unconstrained column space\n",
        "    \"\"\"\n",
        "    constraint_matrix = basis.mean(axis=0).reshape(-1, 1)\n",
        "    q, r = np.linalg.qr(constraint_matrix, mode=\"complete\")\n",
        "    penalty = np.double(\n",
        "        np.linalg.multi_dot([np.transpose(q[:, 1:]), penalty, q[:, 1:]])\n",
        "    )\n",
        "    basis = basis @ q[:, 1:]\n",
        "    return basis, penalty, q[:, 1:]\n"
      ]
    },
    {
      "cell_type": "code",
      "execution_count": 10,
      "metadata": {
        "id": "yefv-2Y3XTtm"
      },
      "outputs": [],
      "source": [
        "class CubicSplines:\n",
        "    def __init__(self, x, k):\n",
        "\n",
        "        X, S, knots, F = cr_spl(x, n_knots=k)\n",
        "\n",
        "        # rescale penalty. Contributes to getting pretty much identical penalty matrix as in mgcv\n",
        "        S = scale_penalty(X, S)\n",
        "        # center\n",
        "        X_centered, S_centered, center_mat = identconst(X, S)\n",
        "\n",
        "        self.basis = X_centered\n",
        "        self.penalty = S_centered\n",
        "        self.knots = knots\n",
        "        self.center_mat = center_mat\n",
        "        self.gammas = None\n",
        "        self.deltas = None\n",
        "        self.x_plot = np.linspace(x.min(), x.max(), 1000).reshape(1000, 1)\n",
        "        self.dim_basis = X_centered.shape[1]\n",
        "        self.F = F\n",
        "\n",
        "\n",
        "    def uncenter(self):\n",
        "        self.uncentered_gammas = self.center_mat @ self.gammas\n",
        "\n",
        "\n",
        "    def transform_new(self, x_new):\n",
        "        # given the knots and F, evaluate new data\n",
        "        basis = cr_spl_predict(x_new, knots=self.knots, F=self.F)\n",
        "        return basis\n",
        "\n",
        "\n",
        "    def plot(self, ax=None, intercept=0, plot_analytical=False, col='b', alpha=1, col_analytical='r'):\n",
        "\n",
        "        # evaluate x_plot\n",
        "        basis = cr_spl_predict(self.x_plot, knots=self.knots, F=self.F)\n",
        "        # create fitted_values\n",
        "        y_fitted = intercept + basis @ self.uncentered_gammas\n",
        "\n",
        "        # plot into given subplot or simply new plot\n",
        "        if ax is None:\n",
        "            # if least squares solution should be plotted ...\n",
        "            if plot_analytical:\n",
        "                y_plot = intercept + basis @ self.center_mat @ self.analytical_gammas\n",
        "                plt.plot(self.x_plot, y_plot, col_analytical)\n",
        "            plt.plot(self.x_plot, y_fitted, col=col, alpha=alpha)\n",
        "\n",
        "        else:\n",
        "            if plot_analytical:\n",
        "                y_plot = intercept + basis @ self.center_mat @ self.analytical_gammas\n",
        "                ax.plot(self.x_plot, y_plot, col_analytical)\n",
        "            ax.plot(self.x_plot, y_fitted, col, alpha=alpha)\n"
      ]
    },
    {
      "cell_type": "code",
      "execution_count": 11,
      "metadata": {
        "id": "hS6DfgsPYfMa"
      },
      "outputs": [],
      "source": [
        "# prompt: simulate some data with two variables and a y target variable which is the sum of the two feature effects\n",
        "\n",
        "import numpy as np\n",
        "n = 1000\n",
        "x1 = np.random.uniform(-1, 1, n)\n",
        "x2 = np.random.uniform(-5, 5, n)\n",
        "y = x1**2 + np.sin(x2) + np.random.normal(0, 0.01, n)\n",
        "\n",
        "x =  np.vstack([x1, x2]).T\n"
      ]
    },
    {
      "cell_type": "code",
      "execution_count": 16,
      "metadata": {
        "id": "329bFcZ3Y1Yb"
      },
      "outputs": [],
      "source": [
        "\n",
        "splines = [CubicSplines(x[:,i], k=12) for i in range(x.shape[1])]\n",
        "X = np.hstack([spline.basis for spline in splines])"
      ]
    },
    {
      "cell_type": "code",
      "execution_count": 20,
      "metadata": {},
      "outputs": [
        {
          "data": {
            "text/plain": [
              "[<__main__.CubicSplines at 0x209651bd9a0>,\n",
              " <__main__.CubicSplines at 0x2094a062a00>]"
            ]
          },
          "execution_count": 20,
          "metadata": {},
          "output_type": "execute_result"
        }
      ],
      "source": [
        "splines"
      ]
    },
    {
      "cell_type": "code",
      "execution_count": 17,
      "metadata": {
        "id": "hwu1SGlbZJ3b"
      },
      "outputs": [],
      "source": [
        "smoothing_params = [0.0, 0.0]\n",
        "penalties = [smoothing_params[i] * splines[i].penalty for i in range(x.shape[1])]\n",
        "S = scipy.linalg.block_diag(*penalties)"
      ]
    },
    {
      "cell_type": "code",
      "execution_count": 18,
      "metadata": {
        "id": "ZGvScvSIcGC4"
      },
      "outputs": [],
      "source": [
        "\n",
        "analytical_gammas = np.linalg.inv(X.T @ X + S) @X.T @ y\n",
        "for i in range(len(splines)):\n",
        "    lower = splines[i].dim_basis * i\n",
        "    upper = splines[i].dim_basis * (i+1)\n",
        "    splines[i].analytical_gammas = analytical_gammas[lower: upper]\n",
        "    splines[i].gammas = analytical_gammas[lower: upper]\n",
        "    splines[i].uncenter()"
      ]
    },
    {
      "cell_type": "code",
      "execution_count": 19,
      "metadata": {
        "colab": {
          "base_uri": "https://localhost:8080/",
          "height": 596
        },
        "id": "99uPiK4YdBjN",
        "outputId": "36466201-785f-4ce2-c986-3b849d0fe8b1"
      },
      "outputs": [
        {
          "name": "stderr",
          "output_type": "stream",
          "text": [
            "C:\\Users\\schleem\\AppData\\Local\\Temp\\ipykernel_8620\\2404835405.py:41: DeprecationWarning: Conversion of an array with ndim > 0 to a scalar is deprecated, and will error in future. Ensure you extract a single element from your array before performing this operation. (Deprecated NumPy 1.25.)\n",
            "  base[i, j - 1] += a_jm\n",
            "C:\\Users\\schleem\\AppData\\Local\\Temp\\ipykernel_8620\\2404835405.py:42: DeprecationWarning: Conversion of an array with ndim > 0 to a scalar is deprecated, and will error in future. Ensure you extract a single element from your array before performing this operation. (Deprecated NumPy 1.25.)\n",
            "  base[i, j] += a_jp\n"
          ]
        },
        {
          "data": {
            "image/png": "[encoded data removed]",
            "text/plain": [
              "<Figure size 1000x500 with 2 Axes>"
            ]
          },
          "metadata": {},
          "output_type": "display_data"
        }
      ],
      "source": [
        "# prompt: do you see the error below? I want to plot both splines...can you help me?\n",
        "\n",
        "import numpy as np\n",
        "import pandas as pd\n",
        "from scipy.spatial import distance_matrix\n",
        "from scipy.sparse.linalg import eigsh\n",
        "import bisect\n",
        "import matplotlib as mpl\n",
        "import ctypes\n",
        "import scipy\n",
        "import matplotlib.pyplot as plt\n",
        "\n",
        "\n",
        "fig, axes = plt.subplots(1, 2, figsize=(10, 5))\n",
        "\n",
        "# Plot the first spline\n",
        "splines[0].plot(ax=axes[0], intercept=0, plot_analytical=True, col='b', alpha=1, col_analytical='r')\n",
        "axes[0].set_title(\"Spline for x1\")\n",
        "\n",
        "# Plot the second spline\n",
        "splines[1].plot(ax=axes[1], intercept=0, plot_analytical=True, col='g', alpha=1, col_analytical='r')\n",
        "axes[1].set_title(\"Spline for x2\")\n",
        "\n",
        "# Show the plots\n",
        "plt.tight_layout()\n",
        "plt.show()\n"
      ]
    }
  ],
  "metadata": {
    "colab": {
      "provenance": []
    },
    "kernelspec": {
      "display_name": "Python 3",
      "name": "python3"
    },
    "language_info": {
      "codemirror_mode": {
        "name": "ipython",
        "version": 3
      },
      "file_extension": ".py",
      "mimetype": "text/x-python",
      "name": "python",
      "nbconvert_exporter": "python",
      "pygments_lexer": "ipython3",
      "version": "3.9.13"
    }
  },
  "nbformat": 4,
  "nbformat_minor": 0
}
